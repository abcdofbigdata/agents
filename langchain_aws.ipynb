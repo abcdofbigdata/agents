{
  "nbformat": 4,
  "nbformat_minor": 0,
  "metadata": {
    "colab": {
      "provenance": [],
      "authorship_tag": "ABX9TyNy4STQYdOWKrcjWjl5XE/0",
      "include_colab_link": true
    },
    "kernelspec": {
      "name": "python3",
      "display_name": "Python 3"
    },
    "language_info": {
      "name": "python"
    }
  },
  "cells": [
    {
      "cell_type": "markdown",
      "metadata": {
        "id": "view-in-github",
        "colab_type": "text"
      },
      "source": [
        "<a href=\"https://colab.research.google.com/github/abcdofbigdata/agents/blob/main/langchain_aws.ipynb\" target=\"_parent\"><img src=\"https://colab.research.google.com/assets/colab-badge.svg\" alt=\"Open In Colab\"/></a>"
      ]
    },
    {
      "cell_type": "code",
      "execution_count": 11,
      "metadata": {
        "id": "zk4vX_qnAwdF"
      },
      "outputs": [],
      "source": [
        "!pip install langchain langchain-aws langchain-community -q"
      ]
    },
    {
      "cell_type": "code",
      "source": [
        "import os\n",
        "from google.colab import userdata\n",
        "\n",
        "os.environ[\"AWS_ACCESS_KEY_ID\"] = userdata.get('aws_access_key')\n",
        "os.environ[\"AWS_SECRET_ACCESS_KEY\"] = userdata.get('aws_secret_access_key')"
      ],
      "metadata": {
        "id": "_EACKVH1BH6s"
      },
      "execution_count": 3,
      "outputs": []
    },
    {
      "cell_type": "code",
      "source": [
        "from langchain_aws import ChatBedrockConverse\n",
        "\n",
        "llm = ChatBedrockConverse(\n",
        "    #model_id=\"us.anthropic.claude-3-5-sonnet-20241022-v2:0\",\n",
        "    model_id=\"us.meta.llama4-maverick-17b-instruct-v1:0\",\n",
        "     region_name=\"us-east-1\",\n",
        "\n",
        ")"
      ],
      "metadata": {
        "id": "2YkxdLLsCGsR"
      },
      "execution_count": 51,
      "outputs": []
    },
    {
      "cell_type": "code",
      "source": [
        "messages = [\n",
        "    (\n",
        "        \"system\",\n",
        "        \"You are a helpful assistant that translates English to French. Translate the user sentence.\",\n",
        "    ),\n",
        "    (\"human\", \"I love programming.\"),\n",
        "]\n",
        "ai_msg = llm.invoke(messages)\n",
        "ai_msg"
      ],
      "metadata": {
        "colab": {
          "base_uri": "https://localhost:8080/"
        },
        "id": "I6CU6XuuCXzG",
        "outputId": "6d680eba-9772-47d9-8a39-d83628356e9f"
      },
      "execution_count": 52,
      "outputs": [
        {
          "output_type": "execute_result",
          "data": {
            "text/plain": [
              "AIMessage(content=\"J'adore la programmation.\", additional_kwargs={}, response_metadata={'ResponseMetadata': {'RequestId': '8b31df4a-8e9d-4620-9a77-c7e55df26356', 'HTTPStatusCode': 200, 'HTTPHeaders': {'date': 'Tue, 19 Aug 2025 12:40:45 GMT', 'content-type': 'application/json', 'content-length': '205', 'connection': 'keep-alive', 'x-amzn-requestid': '8b31df4a-8e9d-4620-9a77-c7e55df26356'}, 'RetryAttempts': 0}, 'stopReason': 'end_turn', 'metrics': {'latencyMs': [162]}, 'model_name': 'us.meta.llama4-maverick-17b-instruct-v1:0'}, id='run--2f7480b6-771c-4d39-bbd6-dc4a5a2a8e68-0', usage_metadata={'input_tokens': 55, 'output_tokens': 7, 'total_tokens': 62, 'input_token_details': {'cache_creation': 0, 'cache_read': 0}})"
            ]
          },
          "metadata": {},
          "execution_count": 52
        }
      ]
    },
    {
      "cell_type": "code",
      "source": [
        "ai_msg.content"
      ],
      "metadata": {
        "colab": {
          "base_uri": "https://localhost:8080/",
          "height": 35
        },
        "id": "nHm3PgZPDF_r",
        "outputId": "8d2cde69-5ce7-4010-d7a1-cdbe517fd967"
      },
      "execution_count": 8,
      "outputs": [
        {
          "output_type": "execute_result",
          "data": {
            "text/plain": [
              "\"J'aime la programmation.\""
            ],
            "application/vnd.google.colaboratory.intrinsic+json": {
              "type": "string"
            }
          },
          "metadata": {},
          "execution_count": 8
        }
      ]
    },
    {
      "cell_type": "code",
      "source": [
        "!pip install langgraph -q"
      ],
      "metadata": {
        "id": "Ft0PYZAsLClW"
      },
      "execution_count": 10,
      "outputs": []
    },
    {
      "cell_type": "code",
      "source": [
        "\n",
        "from langchain_community.tools import TavilySearchResults\n",
        "from langgraph.prebuilt import create_react_agent"
      ],
      "metadata": {
        "id": "syedxqnxLRdF"
      },
      "execution_count": 40,
      "outputs": []
    },
    {
      "cell_type": "code",
      "source": [
        "os.environ[\"TAVILY_API_KEY\"] = userdata.get('taviliy_key')\n",
        "tavily_search = TavilySearchResults(max_results=5)"
      ],
      "metadata": {
        "id": "RxV7pvN-LcGM"
      },
      "execution_count": 41,
      "outputs": []
    },
    {
      "cell_type": "code",
      "source": [
        "from langchain_core.tools import tool\n",
        "from datetime import datetime\n",
        "\n",
        "@tool\n",
        "def get_current_date():\n",
        "    \"\"\"Returns the current date and time. Use this tool first for any time-based queries.\"\"\"\n",
        "    return f\"The current date is: {datetime.now().strftime('%d %B %Y')}\""
      ],
      "metadata": {
        "id": "p1GnjGypNNiV"
      },
      "execution_count": 42,
      "outputs": []
    },
    {
      "cell_type": "code",
      "source": [
        "tools=[tavily_search,get_current_date]"
      ],
      "metadata": {
        "id": "ThPQvX2jMJ8v"
      },
      "execution_count": 43,
      "outputs": []
    },
    {
      "cell_type": "code",
      "source": [
        "graph = create_react_agent(llm, tools)"
      ],
      "metadata": {
        "id": "OyEHp14hL6BT"
      },
      "execution_count": 53,
      "outputs": []
    },
    {
      "cell_type": "code",
      "source": [
        "from IPython.display import display, Image\n",
        "\n",
        "# Visualize the agent's decision-making flow\n",
        "display(Image(graph.get_graph().draw_mermaid_png()))"
      ],
      "metadata": {
        "colab": {
          "base_uri": "https://localhost:8080/",
          "height": 266
        },
        "id": "ihMUTrQkMNjP",
        "outputId": "203fa479-0e8a-4a61-a755-541dde9faea2"
      },
      "execution_count": 45,
      "outputs": [
        {
          "output_type": "display_data",
          "data": {
            "image/png": "[encoded data removed]",
            "text/plain": [
              "<IPython.core.display.Image object>"
            ]
          },
          "metadata": {}
        }
      ]
    },
    {
      "cell_type": "code",
      "source": [
        "# helper function to render markdown\n",
        "from IPython.display import Markdown, display\n",
        "\n",
        "def render_markdown(md_string):\n",
        "    display(Markdown(md_string))"
      ],
      "metadata": {
        "id": "1yXXh6qFMrnx"
      },
      "execution_count": 46,
      "outputs": []
    },
    {
      "cell_type": "code",
      "source": [
        "def process_stream(stream):\n",
        "    for s in stream:\n",
        "        message = s[\"messages\"][-1]\n",
        "        if isinstance(message, tuple):\n",
        "            print(message)\n",
        "        else:\n",
        "            message.pretty_print()\n",
        "    # return the last message\n",
        "    return message"
      ],
      "metadata": {
        "id": "VGgmKlqHMSsI"
      },
      "execution_count": 47,
      "outputs": []
    },
    {
      "cell_type": "code",
      "source": [
        "# helper function to process query\n",
        "def process_query(query):\n",
        "    inputs = {\"messages\": [(\"user\", query)]}\n",
        "    message = process_stream(graph.stream(inputs, stream_mode=\"values\"))\n",
        "    render_markdown(f\"## Answer:\\n{message.content}\")"
      ],
      "metadata": {
        "id": "Y_BZwf2cMZ7i"
      },
      "execution_count": 48,
      "outputs": []
    },
    {
      "cell_type": "code",
      "source": [
        "# Query that will trigger the Tavily search tool\n",
        "process_query(\"What is the time now in Mumbai\")"
      ],
      "metadata": {
        "colab": {
          "base_uri": "https://localhost:8080/",
          "height": 613
        },
        "id": "rVzufAgZMdfj",
        "outputId": "14b226ec-8ddd-4805-8c7e-b3c305b98b5c"
      },
      "execution_count": 54,
      "outputs": [
        {
          "output_type": "stream",
          "name": "stdout",
          "text": [
            "================================\u001b[1m Human Message \u001b[0m=================================\n",
            "\n",
            "What is the time now in Mumbai\n",
            "==================================\u001b[1m Ai Message \u001b[0m==================================\n",
            "\n",
            "[{'type': 'tool_use', 'name': 'get_current_date', 'input': {}, 'id': 'tooluse_VaIlljxKSG-AFKs1wCwNBA'}]\n",
            "Tool Calls:\n",
            "  get_current_date (tooluse_VaIlljxKSG-AFKs1wCwNBA)\n",
            " Call ID: tooluse_VaIlljxKSG-AFKs1wCwNBA\n",
            "  Args:\n",
            "=================================\u001b[1m Tool Message \u001b[0m=================================\n",
            "Name: get_current_date\n",
            "\n",
            "The current date is: 19 August 2025\n",
            "==================================\u001b[1m Ai Message \u001b[0m==================================\n",
            "\n",
            "[{'type': 'tool_use', 'name': 'tavily_search_results_json', 'input': {'query': 'Mumbai current time'}, 'id': 'tooluse_wR8EJDdcQ7qpWMPk0R0Ffg'}]\n",
            "Tool Calls:\n",
            "  tavily_search_results_json (tooluse_wR8EJDdcQ7qpWMPk0R0Ffg)\n",
            " Call ID: tooluse_wR8EJDdcQ7qpWMPk0R0Ffg\n",
            "  Args:\n",
            "    query: Mumbai current time\n",
            "=================================\u001b[1m Tool Message \u001b[0m=================================\n",
            "Name: tavily_search_results_json\n",
            "\n",
            "[{\"title\": \"Current local time in Mumbai, India - WorldTimeServer.com\", \"url\": \"https://www.worldtimeserver.com/current_time_in_IN.aspx?city=Mumbai\", \"content\": \"Your location\\n\\nFavorites\\n\\nProfile Login\\n\\nlanguage English\\n\\n# Current Time in Mumbai, India\\n\\n### What Time Is It In Mumbai, India?Local Time\\n\\n#### Tuesday, August 19, 2025\\n\\nIndia Standard Time (IST) +0530 UTC\\n\\nUTC/GMT is\\n12:41\\non\\nTuesday, August 19, 2025\\n\\n### Daylight Saving Time\\n\\nMumbai, India time zone location map borders\\n\\n### Traveling to Mumbai, India?\\n\\n### Time Zone Conversions\\n\\n### Current Weather Conditions In Mumbai\\n\\nRain. More clouds than sun. Warm. [...] Thanks for visiting and we hope you'll bookmark our site and return again!\\n\\n### Select A Location\\n\\n### Subscribe to our Newsletter\\n\\n### Recent Articles\\n\\n### Add Clock To Your Website\\n\\nGet Code\\n\\n### Time\\n\\n### Time Zones\\n\\n### Tools\\n\\n### News and Weather\\n\\n### Personalize\\n\\n### Widgets\\n\\n### World Time Database\\n\\n### Contact Us\\n\\n### Legal\\n\\nCopyright © 1998 - 2025 WorldTimeServer.com All rights reserved. Executed in 0.032 seconds. [...] Are you about to make an International long distance phone call to Mumbai, India? Are you planning a trip or preparing for a chat or online meeting? Just confirming the current time? We work hard to make certain the time and information presented here on WorldTimeServer.com is accurate and do our best to keep up with Daylight Saving Time rules and Time Zone changes for every country, not just the changes that affect United Kingdom.\", \"score\": 0.8861155}, {\"title\": \"Time in Mumbai, India - World Time Buddy\", \"url\": \"https://www.worldtimebuddy.com/india-mumbai\", \"content\": \"| Mumbai Time Use the above converter to visually and very quickly convert time in Mumbai, India to another timezone. Simply mouse over the colored hour-tiles and glance at the hours selected by the column.  Current time zone for Mumbai, India is IST, whose offset is GMT+5.5. It currently does not observe Daylight Savings Time.      Related: Mumbai to PST, PST to Mumbai See also: Delhi, Bangalore, Kolkata |  |  |  | Getting Started  1   Add locations (or remove, set home, order)  2   Mouse over [...] # Mumbai Time\\n\\nUse the above converter to visually and very quickly convert time in Mumbai, India to another timezone. Simply mouse over the colored hour-tiles and glance at the hours selected by the column.\\n\\nCurrent time zone for Mumbai, India is IST, whose offset is GMT+5.5. It currently does not observe Daylight Savings Time.\\n\\nRelated: Mumbai to PST, PST to Mumbai  \\nSee also: Delhi, Bangalore, Kolkata\\n\\n# Getting Started\", \"score\": 0.87348515}, {\"title\": \"Current Local Time in Mumbai, Maharashtra, India (Bombay)\", \"url\": \"https://www.timeanddate.com/worldclock/india/mumbai\", \"content\": \"timeanddate.com\\nFlag for India\\n\\n# Current Local Time in Mumbai, Maharashtra, India (Bombay)\\n\\nTuesday, August 19, 2025\\n\\n|  |  |\\n| --- | --- |\\n| Country: | India |\\n| State: | Maharashtra |\\n| Lat/Long: | 18°57'N / 72°50'E |\\n| Elevation: | 10 m |\\n| Currency: | Indian Rupee (INR) |\\n| Languages: | Marathi |\\n| Country Code: | +91 |\\n\\nLocation of Mumbai\\nLocation\\n\\n## Weather\\n\\nLight rain. Overcast.  \\n82 / 79 °F\\n\\n|  |  |  |\\n| --- | --- | --- |\\n| Wed 20. |  | 82 / 79 °F |\\n| Thu 21. |  | 83 / 80 °F | [...] ## Tools & Converters\\n\\n## Calendar & Holidays\\n\\nCreate India calendar\\n\\n### Upcoming Holidays\\n\\nMore Holidays in India\\n\\n## Airports\\n\\nOther cities near Mumbai\\n\\ntimeanddate.com logo\\n\\nIllustration of a pink shield with a white heart.\\n\\n#### Love Our Site? Become a Supporter\\n\\nThe timeanddate logo\\n\\n© Time and Date AS 1995–2025\\n\\n#### Company\\n\\n#### Legal\\n\\n#### Services\\n\\n#### Sites\\n\\n#### Follow Us\\n\\n© Time and Date AS 1995–2025.\\nPrivacy & Terms\", \"score\": 0.8565368}, {\"title\": \"Current Local Time in Mumbai, Maharashtra, India\", \"url\": \"https://www.timeanddate.com/worldclock/@1275339\", \"content\": \"timeanddate.com\\nFlag for India\\n\\n# Current Local Time in Mumbai, Maharashtra, India\\n\\nTuesday, August 19, 2025\\n\\n|  |  |\\n| --- | --- |\\n| Country: | India |\\n| State: | Maharashtra |\\n| Type: | Seat of a First-Order Administrative Division |\\n| Lat/Long: | 19°04'N / 72°53'E |\\n| Currency: | Indian Rupee (INR) |\\n| Languages: | Marathi |\\n\\n|  |  |\\n| --- | --- |\\n| Also known as: | Asumumbay, BOM, Bombai, Bombaim |\\n\\nLocation of Mumbai\\nLocation\\n\\n## Weather\\n\\nLight rain. Overcast.  \\n82 / 79 °F [...] |  |  |  |\\n| --- | --- | --- |\\n| Wed 20. |  | 82 / 79 °F |\\n| Thu 21. |  | 83 / 80 °F |\\n\\nWeather by CustomWeather, © 2025\\n\\nMore weather details\\n\\n## Time Zone\\n\\nNo Daylight Saving Time in 2025\\n\\n## No DST\\n\\n## Difference\\n\\nAbout IST — India Standard Time\\n\\nSet your location\\n\\n## Sunrise\\n\\n## Sunset\\n\\n## Day length\\n\\n## Moon 15.8%\\n\\n## High Tide\\n\\n## Low Tide\\n\\nMore Sun & Moon in Mumbai  \\n+ Show More Twilight and Moon Phase Information\\n\\n## Solar Noon\\n\\n## Astronomical Twilight\\n\\n## Nautical Twilight [...] ## Civil Twilight\\n\\n## Previous Moon Phase\\n\\n## Next Moon Phase\\n\\nNeed some help?\\n\\n## Calendar & Holidays\\n\\nCreate India calendar\\n\\n### Upcoming Holidays\\n\\nMore Holidays in India\\n\\n## Airports\\n\\ntimeanddate.com logo\\n\\nIllustration of a pink shield with a white heart.\\n\\n#### Love Our Site? Become a Supporter\\n\\nThe timeanddate logo\\n\\n© Time and Date AS 1995–2025\\n\\n#### Company\\n\\n#### Legal\\n\\n#### Services\\n\\n#### Sites\\n\\n#### Follow Us\\n\\n© Time and Date AS 1995–2025.\\nPrivacy & Terms\", \"score\": 0.8449346}, {\"title\": \"Current time in Mumbai, India - 24 Time Zones\", \"url\": \"https://24timezones.com/Mumbai/time\", \"content\": \"World Time\\n\\nIndia\\n\\nMaharashtra\\n\\nMumbai\\n\\n# Time in Mumbai now\\n\\nMumbai\\n\\nㅤㅤㅤㅤㅤㅤㅤㅤㅤㅤㅤㅤㅤㅤㅤㅤㅤㅤㅤㅤㅤㅤㅤㅤ\\n\\n## Current local time in Mumbai and DST dates in 2025\\n\\n### Local time\\n\\n--:--\\nIST\\n\\n### Mumbai summer time (DST) in 2025\\n\\n| No known DST-adjustments for year 2025 | |\\n\\n### Mumbai time zone\\n\\n### Time difference to GMT/UTC\\n\\n|  |  |\\n| --- | --- |\\n| Standard time zone: | UTC/GMT +5:30 hours |\\n| No daylight saving time at the moment | |\\n\\n### Airports [...] |  |  |  |\\n| --- | --- | --- |\\n| Install html5 analog clock on your web page. | Put digital website clock widget on your web pages. | Free online clocks for website owners. Add useful functionality to your websites. |\\n\\n## Install html5 analog clock on your web page.\\n\\n## Put digital website clock widget on your web pages.\\n\\n## Free online clocks for website owners. Add useful functionality to your websites. [...] WHY USE 24timezones?  \\nUse 24tz to plan your next perfect travel to Mumbai. You can even plan a call to your friend or business partner in Mumbai. If you need some help to figure out location, use Mumbai map that can show you satellite or street view.\\n  \\nWe hope 24timezones has helped you plan your call or arrange your visit to this city.  \\nCorrect local time in Mumbai, India timezone, official time change dates winter time 2025 daylight saving dates, DST, clock change, GMT/UTC difference.\", \"score\": 0.8266142}]\n",
            "==================================\u001b[1m Ai Message \u001b[0m==================================\n",
            "\n",
            "The current time in Mumbai is 18:11 IST (India Standard Time) on Tuesday, August 19, 2025.\n"
          ]
        },
        {
          "output_type": "display_data",
          "data": {
            "text/plain": [
              "<IPython.core.display.Markdown object>"
            ],
            "text/markdown": "## Answer:\nThe current time in Mumbai is 18:11 IST (India Standard Time) on Tuesday, August 19, 2025."
          },
          "metadata": {}
        }
      ]
    },
    {
      "cell_type": "code",
      "source": [
        "process_query(\"What is the temperature in bangalore now?\")"
      ],
      "metadata": {
        "colab": {
          "base_uri": "https://localhost:8080/",
          "height": 631
        },
        "id": "_mL9f780WZlh",
        "outputId": "0f94c6ea-f541-4a64-8c97-dab7794524cf"
      },
      "execution_count": 55,
      "outputs": [
        {
          "output_type": "stream",
          "name": "stdout",
          "text": [
            "================================\u001b[1m Human Message \u001b[0m=================================\n",
            "\n",
            "What is the temperature in bangalore now?\n",
            "==================================\u001b[1m Ai Message \u001b[0m==================================\n",
            "\n",
            "[{'type': 'tool_use', 'name': 'tavily_search_results_json', 'input': {'query': 'Bangalore current temperature'}, 'id': 'tooluse_CquSvSf1RsyX5oPGrOb_tQ'}]\n",
            "Tool Calls:\n",
            "  tavily_search_results_json (tooluse_CquSvSf1RsyX5oPGrOb_tQ)\n",
            " Call ID: tooluse_CquSvSf1RsyX5oPGrOb_tQ\n",
            "  Args:\n",
            "    query: Bangalore current temperature\n",
            "=================================\u001b[1m Tool Message \u001b[0m=================================\n",
            "Name: tavily_search_results_json\n",
            "\n",
            "[{\"title\": \"Hour-by-Hour Forecast for Bengaluru, Karnataka, India\", \"url\": \"https://www.timeanddate.com/weather/india/bengaluru/hourly\", \"content\": \"| 9:00 am |  | 72 °F | Passing showers. Overcast. | 72 °F | 15 mph | ↑ | 80% | 28% | 0.00\\\" (snow) 0.00\\\" (rain) |\\n| 10:00 am |  | 74 °F | Passing showers. Overcast. | 75 °F | 16 mph | ↑ | 75% | 25% | 0.00\\\" (snow) 0.00\\\" (rain) |\\n| 11:00 am |  | 76 °F | Passing showers. Overcast. | 78 °F | 18 mph | ↑ | 71% | 22% | 0.00\\\" (snow) 0.00\\\" (rain) |\\n| 12:00 pm |  | 78 °F | Passing showers. Overcast. | 80 °F | 18 mph | ↑ | 67% | 22% | 0.00\\\" (snow) 0.00\\\" (rain) | [...] | 5:00 am |  | 67 °F | Passing showers. Overcast. | 67 °F | 15 mph | ↑ | 87% | 21% | 0.00\\\" (snow) 0.00\\\" (rain) |\\n| 6:00 am |  | 67 °F | Passing showers. Cloudy. | 67 °F | 15 mph | ↑ | 88% | 24% | 0.00\\\" (snow) 0.00\\\" (rain) |\\n| 7:00 am |  | 68 °F | Passing showers. Overcast. | 68 °F | 14 mph | ↑ | 88% | 28% | 0.00\\\" (snow) 0.00\\\" (rain) |\\n| 8:00 am |  | 70 °F | Passing showers. Overcast. | 70 °F | 14 mph | ↑ | 84% | 31% | 0.00\\\" (snow) 0.00\\\" (rain) | [...] | 5:00 pm |  | 75 °F | Passing showers. Cloudy. | 76 °F | 16 mph | ↑ | 77% | 53% | 0.00\\\" (snow) 0.01\\\" (rain) |\\n| 6:00 pm |  | 74 °F | Passing showers. Broken clouds. | 74 °F | 15 mph | ↑ | 78% | 49% | 0.00\\\" (snow) 0.01\\\" (rain) |\\n|  |  |  |  |  |  |  |  |  |  |\\n| --- | --- | --- | --- | --- | --- | --- | --- | --- | --- |\\n| \\\\ Updated Tuesday, August 19, 2025 1:12:31 pm Bengaluru time - Weather by CustomWeather, © 2025 | | | | | | | | | |\", \"score\": 0.7445268}, {\"title\": \"Bengaluru, Karnataka, India Weather Forecast\", \"url\": \"https://www.accuweather.com/en/in/bengaluru/204108/weather-forecast/204108\", \"content\": \"# Bengaluru, Karnataka\\n\\nBengaluru\\n\\nKarnataka\\n\\n## Around the Globe\\n\\nAround the Globe\\n\\n### Hurricane Tracker\\n\\n### Severe Weather\\n\\n### Radar & Maps\\n\\n### News & Features\\n\\n### Astronomy\\n\\n### Business\\n\\n### Climate\\n\\n### Health\\n\\n### Recreation\\n\\n### Sports\\n\\n### Travel\\n\\n### Warnings\\n\\n### Data Suite\\n\\n### Forensics\\n\\n### Advertising\\n\\n### Superior Accuracy™\\n\\n### Video\\n\\n## Today\\n\\n## Today's Weather\\n\\nTue, Aug 19\\n\\nWindy with low clouds\\nHi: 79°\\n\\nTonight: Cloudy\\nLo: 67°\\n\\n## Current Weather\\n\\n6:12 PM\", \"score\": 0.72675586}, {\"title\": \"Bengaluru, Karnataka, India 14 day weather forecast - Time and Date\", \"url\": \"https://www.timeanddate.com/weather/india/bengaluru/ext\", \"content\": \"| Sat Aug 23 |  | 82 / 68 °F | Passing showers. Overcast. | 83 °F | 9 mph | ↑ | 56% | 59% | 0.22\\\" | 3 (Moderate) | 6:08 am | 6:36 pm |\\n| Sun Aug 24 |  | 83 / 66 °F | Passing showers. Cloudy. | 84 °F | 12 mph | ↑ | 55% | 47% | 0.06\\\" | 7 (High) | 6:08 am | 6:35 pm |\\n| Mon Aug 25 |  | 83 / 66 °F | Showers late. Overcast. | 83 °F | 15 mph | ↑ | 55% | 22% | 0.03\\\" | 7 (High) | 6:08 am | 6:35 pm | [...] | Fri Aug 29 |  | 81 / 70 °F | Passing showers. Broken clouds. | 83 °F | 19 mph | ↑ | 57% | 52% | 0.04\\\" | 7 (High) | 6:08 am | 6:32 pm |\\n| Sat Aug 30 |  | 81 / 70 °F | Showers late. Mostly cloudy. | 83 °F | 14 mph | ↑ | 59% | 53% | 0.02\\\" | 5 (Moderate) | 6:08 am | 6:31 pm |\\n| Sun Aug 31 |  | 81 / 70 °F | Overcast. | 82 °F | 16 mph | ↑ | 49% | 6% | 0.00\\\" | 5 (Moderate) | 6:08 am | 6:31 pm | [...] | Wed Aug 20 |  | 81 / 67 °F | Passing showers. Cloudy. | 81 °F | 17 mph | ↑ | 65% | 60% | 0.10\\\" | 7 (High) | 6:08 am | 6:38 pm |\\n| Thu Aug 21 |  | 83 / 66 °F | Showers late. Cloudy. | 84 °F | 11 mph | ↑ | 59% | 58% | 0.07\\\" | 7 (High) | 6:08 am | 6:37 pm |\\n| Fri Aug 22 |  | 82 / 67 °F | Showers late. Overcast. | 83 °F | 8 mph | ↑ | 57% | 45% | 0.07\\\" | 3 (Moderate) | 6:08 am | 6:36 pm |\", \"score\": 0.71687365}, {\"title\": \"Bangalore weather in August 2025\", \"url\": \"https://www.weather25.com/asia/india/karnataka/bangalore?page=month&month=August\", \"content\": \"| Month | Temperatures | Rainy Days | Dry Days | Snowy Days | Rainfall | Weather | More details |\\n| --- | --- | --- | --- | --- | --- | --- | --- |\\n| January | 29° / 17° | 1 | 31 | 0 | 12 mm | Good | Bangalore in January |\\n| February | 32° / 18° | 1 | 28 | 0 | 14 mm | Good | Bangalore in February |\\n| March | 35° / 22° | 1 | 30 | 0 | 27 mm | Ok | Bangalore in March |\\n| April | 36° / 24° | 4 | 26 | 0 | 61 mm | Ok | Bangalore in April | [...] | May | 34° / 23° | 9 | 23 | 0 | 183 mm | Bad | Bangalore in May |\\n| June | 30° / 21° | 10 | 20 | 0 | 183 mm | Ok | Bangalore in June |\\n| July | 28° / 20° | 9 | 22 | 0 | 141 mm | Good | Bangalore in July |\\n| August | 28° / 20° | 14 | 17 | 0 | 251 mm | Good | Bangalore in August |\\n| September | 28° / 20° | 15 | 15 | 0 | 304 mm | Good | Bangalore in September |\\n| October | 28° / 19° | 13 | 18 | 0 | 297 mm | Good | Bangalore in October | [...] The weather in Bangalore in August is hot. The average temperatures are between 20°C and 28°C.\\n\\nYou can expect rain for roughly half of the month of August in Bangalore. We’re expecting roughly 8 to 15 days of rain, so your rubber boots and umbrella are going to see plenty of use this month if you’re keen on staying dry.\\n\\nOur weather forecast can give you a great sense of what weather to expect in Bangalore in August 2025.\", \"score\": 0.60805947}, {\"title\": \"Bengaluru, Karnataka, India Hourly Weather - AccuWeather\", \"url\": \"https://www.accuweather.com/en/in/bengaluru/204108/hourly-weather-forecast/204108\", \"content\": \"AccuLumen Brightness Index™0 (Dark)\\n\\nCloud Cover62%\\n\\nVisibility10 mi\\n\\nCloud Ceiling30000 ft\\n\\n## 8 PM\\n\\nrain drop\\n\\nWindW 14 mph\\n\\nAir QualityPoor\\n\\nWind Gusts28 mph\\n\\nHumidity68%\\n\\nIndoor Humidity68% (Humid)\\n\\nDew Point65° F\\n\\nAccuLumen Brightness Index™0 (Dark)\\n\\nCloud Cover81%\\n\\nVisibility7 mi\\n\\nCloud Ceiling30000 ft\\n\\n## 9 PM\\n\\nrain drop\\n\\nWindW 13 mph\\n\\nAir QualityPoor\\n\\nWind Gusts27 mph\\n\\nHumidity72%\\n\\nIndoor Humidity72% (Humid)\\n\\nDew Point64° F\\n\\nAccuLumen Brightness Index™0 (Dark)\\n\\nCloud Cover100% [...] # Bengaluru, Karnataka\\n\\nBengaluru\\n\\nKarnataka\\n\\n## Around the Globe\\n\\nAround the Globe\\n\\n### Hurricane Tracker\\n\\n### Severe Weather\\n\\n### Radar & Maps\\n\\n### News & Features\\n\\n### Astronomy\\n\\n### Business\\n\\n### Climate\\n\\n### Health\\n\\n### Recreation\\n\\n### Sports\\n\\n### Travel\\n\\n### Warnings\\n\\n### Data Suite\\n\\n### Forensics\\n\\n### Advertising\\n\\n### Superior Accuracy™\\n\\n### Video\\n\\n## Hourly\\n\\n## 7 PM\\n\\nrain drop\\n\\nWindW 15 mph\\n\\nAir QualityPoor\\n\\nWind Gusts29 mph\\n\\nHumidity68%\\n\\nIndoor Humidity68% (Humid)\\n\\nDew Point65° F [...] Visibility7 mi\\n\\nCloud Ceiling30000 ft\\n\\n## 10 PM\\n\\nrain drop\\n\\nWindWSW 13 mph\\n\\nAir QualityPoor\\n\\nWind Gusts27 mph\\n\\nHumidity74%\\n\\nIndoor Humidity74% (Humid)\\n\\nDew Point64° F\\n\\nAccuLumen Brightness Index™0 (Dark)\\n\\nCloud Cover100%\\n\\nVisibility6 mi\\n\\nCloud Ceiling30000 ft\\n\\n## 11 PM\\n\\nrain drop\\n\\nWindWSW 13 mph\\n\\nAir QualityPoor\\n\\nWind Gusts25 mph\\n\\nHumidity75%\\n\\nIndoor Humidity75% (Humid)\\n\\nDew Point64° F\\n\\nAccuLumen Brightness Index™0 (Dark)\\n\\nCloud Cover100%\\n\\nVisibility6 mi\\n\\nCloud Ceiling30000 ft\", \"score\": 0.59655124}]\n",
            "==================================\u001b[1m Ai Message \u001b[0m==================================\n",
            "\n",
            "[{'type': 'tool_use', 'name': 'tavily_search_results_json', 'input': {'query': 'Bangalore current temperature'}, 'id': 'tooluse_cpT-srcwRKmowJHdZZsaRw'}]\n",
            "Tool Calls:\n",
            "  tavily_search_results_json (tooluse_cpT-srcwRKmowJHdZZsaRw)\n",
            " Call ID: tooluse_cpT-srcwRKmowJHdZZsaRw\n",
            "  Args:\n",
            "    query: Bangalore current temperature\n",
            "=================================\u001b[1m Tool Message \u001b[0m=================================\n",
            "Name: tavily_search_results_json\n",
            "\n",
            "[{\"title\": \"Weather for Bengaluru, Karnataka, India\", \"url\": \"https://www.timeanddate.com/weather/india/bengaluru\", \"content\": \"timeanddate.com\\nFlag for India\\n\\n# Weather in Bengaluru, Karnataka, India\\n\\nBroken clouds.\\n\\nFeels Like: 74 °F  \\nForecast: 81 / 67 °F  \\nWind: 12 mph ↑ from Southwest\\n\\n|  |  |\\n| --- | --- |\\n| Location: | Bangalore / Hindustan |\\n| Current Time: | Aug 19, 2025 at 6:12:13 pm |\\n| Latest Report: | Aug 19, 2025 at 5:30 pm |\\n| Visibility: | 4 mi |\\n| Pressure: | 29.86 \\\"Hg (26.99 \\\"Hg at 876m altitude) |\\n| Humidity: | 78% |\\n| Dew Point: | 66 °F |\\n\\nLocation of Bengaluru\\nLocation\\n\\n## Upcoming 5 hours [...] |  |  |  |  |  |  |\\n| --- | --- | --- | --- | --- | --- |\\n| Now | 7:00 pm | 8:00 pm | 9:00 pm | 10:00 pm | 11:00 pm |\\n|  |  |  |  |  |  |\\n| 73 °F | 72 °F | 71 °F | 70 °F | 69 °F | 68 °F |\\n\\nSee more hour-by-hour weather\\n\\n## Forecast for the next 48 hours [...] | Feels Like | 70 °F | 67 °F | 72 °F | 81 °F | 70 °F | 68 °F | 75 °F |\\n| Wind Speed | 16 mph | 16 mph | 15 mph | 17 mph | 12 mph | 10 mph | 14 mph |\\n| Wind Direction | WSW ↑ | WSW ↑ | WSW ↑ | WSW ↑ | WSW ↑ | WSW ↑ | WSW ↑ |\\n| Humidity | 82% | 85% | 80% | 65% | 83% | 90% | 75% |\\n| Dew Point | 64 °F | 63 °F | 65 °F | 66 °F | 65 °F | 65 °F | 66 °F |\\n| Visibility | 6 mi | 7 mi | 7 mi | 7 mi | 6 mi | 5 mi | 6 mi |\\n| Probability of Precipitation | 21% | 10% | 28% | 44% | 18% | 4% | 0% |\", \"score\": 0.79675186}, {\"title\": \"Hour-by-Hour Forecast for Bengaluru, Karnataka, India\", \"url\": \"https://www.timeanddate.com/weather/india/bengaluru/hourly\", \"content\": \"| 9:00 am |  | 72 °F | Passing showers. Overcast. | 72 °F | 15 mph | ↑ | 80% | 28% | 0.00\\\" (snow) 0.00\\\" (rain) |\\n| 10:00 am |  | 74 °F | Passing showers. Overcast. | 75 °F | 16 mph | ↑ | 75% | 25% | 0.00\\\" (snow) 0.00\\\" (rain) |\\n| 11:00 am |  | 76 °F | Passing showers. Overcast. | 78 °F | 18 mph | ↑ | 71% | 22% | 0.00\\\" (snow) 0.00\\\" (rain) |\\n| 12:00 pm |  | 78 °F | Passing showers. Overcast. | 80 °F | 18 mph | ↑ | 67% | 22% | 0.00\\\" (snow) 0.00\\\" (rain) | [...] | 5:00 am |  | 67 °F | Passing showers. Overcast. | 67 °F | 15 mph | ↑ | 87% | 21% | 0.00\\\" (snow) 0.00\\\" (rain) |\\n| 6:00 am |  | 67 °F | Passing showers. Cloudy. | 67 °F | 15 mph | ↑ | 88% | 24% | 0.00\\\" (snow) 0.00\\\" (rain) |\\n| 7:00 am |  | 68 °F | Passing showers. Overcast. | 68 °F | 14 mph | ↑ | 88% | 28% | 0.00\\\" (snow) 0.00\\\" (rain) |\\n| 8:00 am |  | 70 °F | Passing showers. Overcast. | 70 °F | 14 mph | ↑ | 84% | 31% | 0.00\\\" (snow) 0.00\\\" (rain) | [...] | 5:00 pm |  | 75 °F | Passing showers. Cloudy. | 76 °F | 16 mph | ↑ | 77% | 53% | 0.00\\\" (snow) 0.01\\\" (rain) |\\n| 6:00 pm |  | 74 °F | Passing showers. Broken clouds. | 74 °F | 15 mph | ↑ | 78% | 49% | 0.00\\\" (snow) 0.01\\\" (rain) |\\n|  |  |  |  |  |  |  |  |  |  |\\n| --- | --- | --- | --- | --- | --- | --- | --- | --- | --- |\\n| \\\\ Updated Tuesday, August 19, 2025 1:12:31 pm Bengaluru time - Weather by CustomWeather, © 2025 | | | | | | | | | |\", \"score\": 0.7445268}, {\"title\": \"Bengaluru, Karnataka, India Weather Forecast\", \"url\": \"https://www.accuweather.com/en/in/bengaluru/204108/weather-forecast/204108\", \"content\": \"# Bengaluru, Karnataka\\n\\nBengaluru\\n\\nKarnataka\\n\\n## Around the Globe\\n\\nAround the Globe\\n\\n### Hurricane Tracker\\n\\n### Severe Weather\\n\\n### Radar & Maps\\n\\n### News & Features\\n\\n### Astronomy\\n\\n### Business\\n\\n### Climate\\n\\n### Health\\n\\n### Recreation\\n\\n### Sports\\n\\n### Travel\\n\\n### Warnings\\n\\n### Data Suite\\n\\n### Forensics\\n\\n### Advertising\\n\\n### Superior Accuracy™\\n\\n### Video\\n\\n## Today\\n\\n## Today's Weather\\n\\nTue, Aug 19\\n\\nWindy with low clouds\\nHi: 79°\\n\\nTonight: Cloudy\\nLo: 67°\\n\\n## Current Weather\\n\\n6:12 PM\", \"score\": 0.72675586}, {\"title\": \"Bengaluru, Karnataka, India 14 day weather forecast\", \"url\": \"https://www.timeanddate.com/weather/india/bengaluru/ext\", \"content\": \"| Sat Aug 23 |  | 82 / 68 °F | Passing showers. Overcast. | 83 °F | 9 mph | ↑ | 56% | 59% | 0.22\\\" | 3 (Moderate) | 6:08 am | 6:36 pm |\\n| Sun Aug 24 |  | 83 / 66 °F | Passing showers. Cloudy. | 84 °F | 12 mph | ↑ | 55% | 47% | 0.06\\\" | 7 (High) | 6:08 am | 6:35 pm |\\n| Mon Aug 25 |  | 83 / 66 °F | Showers late. Overcast. | 83 °F | 15 mph | ↑ | 55% | 22% | 0.03\\\" | 7 (High) | 6:08 am | 6:35 pm | [...] | Fri Aug 29 |  | 81 / 70 °F | Passing showers. Broken clouds. | 83 °F | 19 mph | ↑ | 57% | 52% | 0.04\\\" | 7 (High) | 6:08 am | 6:32 pm |\\n| Sat Aug 30 |  | 81 / 70 °F | Showers late. Mostly cloudy. | 83 °F | 14 mph | ↑ | 59% | 53% | 0.02\\\" | 5 (Moderate) | 6:08 am | 6:31 pm |\\n| Sun Aug 31 |  | 81 / 70 °F | Overcast. | 82 °F | 16 mph | ↑ | 49% | 6% | 0.00\\\" | 5 (Moderate) | 6:08 am | 6:31 pm | [...] | Wed Aug 20 |  | 81 / 67 °F | Passing showers. Cloudy. | 81 °F | 17 mph | ↑ | 65% | 60% | 0.10\\\" | 7 (High) | 6:08 am | 6:38 pm |\\n| Thu Aug 21 |  | 83 / 66 °F | Showers late. Cloudy. | 84 °F | 11 mph | ↑ | 59% | 58% | 0.07\\\" | 7 (High) | 6:08 am | 6:37 pm |\\n| Fri Aug 22 |  | 82 / 67 °F | Showers late. Overcast. | 83 °F | 8 mph | ↑ | 57% | 45% | 0.07\\\" | 3 (Moderate) | 6:08 am | 6:36 pm |\", \"score\": 0.71496695}, {\"title\": \"Bengaluru, Karnataka, India Hourly Weather\", \"url\": \"https://www.accuweather.com/en/in/bengaluru/204108/hourly-weather-forecast/204108\", \"content\": \"# Bengaluru, Karnataka\\n\\nBengaluru\\n\\nKarnataka\\n\\n## Around the Globe\\n\\nAround the Globe\\n\\n### Hurricane Tracker\\n\\n### Severe Weather\\n\\n### Radar & Maps\\n\\n### News & Features\\n\\n### Astronomy\\n\\n### Business\\n\\n### Climate\\n\\n### Health\\n\\n### Recreation\\n\\n### Sports\\n\\n### Travel\\n\\n### Warnings\\n\\n### Data Suite\\n\\n### Forensics\\n\\n### Advertising\\n\\n### Superior Accuracy™\\n\\n### Video\\n\\n## Hourly\\n\\n## 7 PM\\n\\nrain drop\\n\\nWindW 15 mph\\n\\nAir QualityPoor\\n\\nWind Gusts29 mph\\n\\nHumidity68%\\n\\nIndoor Humidity68% (Humid)\\n\\nDew Point65° F [...] AccuLumen Brightness Index™0 (Dark)\\n\\nCloud Cover62%\\n\\nVisibility10 mi\\n\\nCloud Ceiling30000 ft\\n\\n## 8 PM\\n\\nrain drop\\n\\nWindW 14 mph\\n\\nAir QualityPoor\\n\\nWind Gusts28 mph\\n\\nHumidity68%\\n\\nIndoor Humidity68% (Humid)\\n\\nDew Point65° F\\n\\nAccuLumen Brightness Index™0 (Dark)\\n\\nCloud Cover81%\\n\\nVisibility7 mi\\n\\nCloud Ceiling30000 ft\\n\\n## 9 PM\\n\\nrain drop\\n\\nWindW 13 mph\\n\\nAir QualityPoor\\n\\nWind Gusts27 mph\\n\\nHumidity72%\\n\\nIndoor Humidity72% (Humid)\\n\\nDew Point64° F\\n\\nAccuLumen Brightness Index™0 (Dark)\\n\\nCloud Cover100% [...] Visibility7 mi\\n\\nCloud Ceiling30000 ft\\n\\n## 10 PM\\n\\nrain drop\\n\\nWindWSW 13 mph\\n\\nAir QualityPoor\\n\\nWind Gusts27 mph\\n\\nHumidity74%\\n\\nIndoor Humidity74% (Humid)\\n\\nDew Point64° F\\n\\nAccuLumen Brightness Index™0 (Dark)\\n\\nCloud Cover100%\\n\\nVisibility6 mi\\n\\nCloud Ceiling30000 ft\\n\\n## 11 PM\\n\\nrain drop\\n\\nWindWSW 13 mph\\n\\nAir QualityPoor\\n\\nWind Gusts25 mph\\n\\nHumidity75%\\n\\nIndoor Humidity75% (Humid)\\n\\nDew Point64° F\\n\\nAccuLumen Brightness Index™0 (Dark)\\n\\nCloud Cover100%\\n\\nVisibility6 mi\\n\\nCloud Ceiling30000 ft\", \"score\": 0.54840803}]\n",
            "==================================\u001b[1m Ai Message \u001b[0m==================================\n",
            "\n",
            "The current temperature in Bangalore is 73 °F.\n"
          ]
        },
        {
          "output_type": "display_data",
          "data": {
            "text/plain": [
              "<IPython.core.display.Markdown object>"
            ],
            "text/markdown": "## Answer:\nThe current temperature in Bangalore is 73 °F."
          },
          "metadata": {}
        }
      ]
    }
  ]
}